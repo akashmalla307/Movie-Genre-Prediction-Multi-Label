{
 "cells": [
  {
   "cell_type": "code",
   "execution_count": 1,
   "metadata": {
    "colab": {
     "base_uri": "https://localhost:8080/",
     "height": 52
    },
    "colab_type": "code",
    "id": "8YRSZ6kK3Qer",
    "outputId": "7eca9d5f-e687-4c5d-9b76-5e09487b88d3"
   },
   "outputs": [
    {
     "name": "stdout",
     "output_type": "stream",
     "text": [
      "CSE_487_587_Assignment_3___Predictive_Analytics_with_Apache_Spark.pdf\r\n",
      "Data\r\n",
      "Desktop\r\n",
      "DIC\r\n",
      "DIC_PySpark_Part1.ipynb\r\n",
      "DIC_PySpark_Part2.ipynb\r\n",
      "DIC_PySpark_Part3.ipynb\r\n",
      "Documents\r\n",
      "Downloads\r\n",
      "examplehadoop\r\n",
      "examples.desktop\r\n",
      "genre_lables.csv\r\n",
      "gutenberg\r\n",
      "hadoop-2.8.5.tar.gz\r\n",
      "hadoop-3.1.2\r\n",
      "hadoop-3.1.2.tar.gz\r\n",
      "hadooptmpdata\r\n",
      "hdfs\r\n",
      "hs_err_pid10739.log\r\n",
      "hs_err_pid24575.log\r\n",
      "hs_err_pid24640.log\r\n",
      "mapping.csv\r\n",
      "Music\r\n",
      "part1\r\n",
      "part3\r\n",
      "Pictures\r\n",
      "predictions_part1.csv\r\n",
      "predictions_part3.csv\r\n",
      "Public\r\n",
      "sample.csv\r\n",
      "spark-2.4.0-bin-hadoop2.7\r\n",
      "spark-2.4.0-bin-hadoop2.7.tgz\r\n",
      "Templates\r\n",
      "test.csv\r\n",
      "train.csv\r\n",
      "Videos\r\n"
     ]
    }
   ],
   "source": [
    "##TO RUN THE FILE GOOGLE COLAB\n",
    "import os\n",
    "# os.environ[\"JAVA_HOME\"] = \"/usr/lib/jvm/java-8-openjdk-amd64\"\n",
    "# os.environ[\"SPARK_HOME\"] = \"/content/spark-2.4.0-bin-hadoop2.7\"\n",
    "\n",
    "import findspark\n",
    "findspark.init('/home/cse587/spark-2.4.0-bin-hadoop2.7')     ##TO RUN THE FILE ON\n",
    "# findspark.init()                                           ##TO RUN THE FILE GOOGLE COLAB\n",
    "from pyspark.sql import SparkSession\n",
    "spark = SparkSession.builder.master(\"local[*]\").getOrCreate()\n",
    "# spark = SparkSession.builder.master(\"local[*]\")\\\n",
    "#         .config(\"spark.executor.memory\", \"16g\")\\\n",
    "#         .config(\"spark.driver.memory\", \"16g\")\\\n",
    "#         .config(\"spark.memory.offHeap.enabled\",'true')\\\n",
    "#         .config(\"spark.memory.offHeap.size\",\"16g\")\\\n",
    "#         .getOrCreate()\n",
    "\n",
    "\n",
    "!ls"
   ]
  },
  {
   "cell_type": "code",
   "execution_count": 2,
   "metadata": {
    "colab": {},
    "colab_type": "code",
    "id": "HoHi4QdC5apa"
   },
   "outputs": [],
   "source": [
    "import numpy as np\n",
    "import pandas as pd\n",
    "from ast import literal_eval \n",
    "import pyspark.sql.functions as F\n",
    "from pyspark.sql.functions import udf\n",
    "from pyspark.sql.types import StringType, IntegerType, ArrayType\n",
    "from pyspark.ml import Pipeline\n",
    "from pyspark.ml.feature import StopWordsRemover\n",
    "from pyspark.ml.feature import Tokenizer, RegexTokenizer\n",
    "from pyspark.ml.feature import HashingTF, IDF\n",
    "from pyspark.sql.functions import regexp_replace,col,array_contains,explode\n",
    "from pyspark.sql.functions import split\n",
    "from pyspark.sql.functions import monotonically_increasing_id\n",
    "from functools import reduce\n",
    "from pyspark.sql.functions import concat_ws\n",
    "from pyspark.ml.classification import LogisticRegression,LogisticRegressionModel"
   ]
  },
  {
   "cell_type": "code",
   "execution_count": 3,
   "metadata": {
    "colab": {},
    "colab_type": "code",
    "id": "76Y4Nnuc6OK5"
   },
   "outputs": [],
   "source": [
    "pd_df = pd.read_csv(r'train.csv')\n",
    "\n",
    "data_spark_df = spark.createDataFrame(pd_df)\n",
    "pd_df['genre']= pd_df['genre'].apply(literal_eval)\n",
    "all_genre = pd_df['genre'].to_list()\n",
    "names =['Drama','Comedy','Romance Film','Thriller','Action','World cinema','Crime Fiction','Horror','Black-and-white','Indie','Action/Adventure','Adventure','Family Film','Short Film','Romantic drama','Animation','Musical','Science Fiction','Mystery','Romantic comedy']\n",
    "matrix = np.zeros((len(pd_df),len(names)))\n",
    "for i,genre in enumerate(all_genre):\n",
    "  for j,g in enumerate(genre):\n",
    "    for k,name in enumerate(names):\n",
    "        if name==g:\n",
    "          matrix[i][k] = 1\n",
    "names = \"Drama , Comedy , Romance Film , Thriller , Action , World cinema , Crime Fiction , Horror , Black-and-white , Indie , Action/Adventure , Adventure , Family Film , Short Film , Romantic drama , Animation , Musical , Science Fiction , Mystery , Romantic comedy\"\n",
    "np.savetxt(\"genre_lables.csv\", matrix, delimiter=\",\",fmt='%d',header=names)\n"
   ]
  },
  {
   "cell_type": "code",
   "execution_count": 4,
   "metadata": {
    "colab": {},
    "colab_type": "code",
    "id": "4wMajSknMC3W"
   },
   "outputs": [],
   "source": [
    "lables_df = pd.read_csv(r'genre_lables.csv')\n",
    "test_pd_df = pd.read_csv(r'test.csv')\n",
    "lables_spark_df = spark.createDataFrame(lables_df)\n",
    "test_spark_df = spark.createDataFrame(test_pd_df)"
   ]
  },
  {
   "cell_type": "code",
   "execution_count": 5,
   "metadata": {
    "colab": {},
    "colab_type": "code",
    "id": "lZUNn84K21fS"
   },
   "outputs": [],
   "source": [
    "ddf1 = data_spark_df.withColumn(\"row_id\", monotonically_increasing_id())\n",
    "ddf2 = lables_spark_df.withColumn(\"row_id\", monotonically_increasing_id())\n",
    "ddf3 = test_spark_df.withColumn(\"row_id\", monotonically_increasing_id())\n",
    "df = ddf1.join(ddf2, \"row_id\").drop(\"row_id\")\n",
    "test_df = ddf3.join(ddf2, \"row_id\").drop(\"row_id\")\n"
   ]
  },
  {
   "cell_type": "code",
   "execution_count": 6,
   "metadata": {
    "colab": {
     "base_uri": "https://localhost:8080/",
     "height": 52
    },
    "colab_type": "code",
    "id": "Z593o_L88AEK",
    "outputId": "f0494484-d960-4597-d5dd-d86bf808d5d1"
   },
   "outputs": [
    {
     "name": "stdout",
     "output_type": "stream",
     "text": [
      "CPU times: user 62.1 ms, sys: 24 ms, total: 86.1 ms\n",
      "Wall time: 40 s\n"
     ]
    }
   ],
   "source": [
    "%%time\n",
    "regexTokenizer = RegexTokenizer(inputCol=\"plot\", outputCol=\"words\", pattern=\"\\\\W\")\n",
    "hashingTF = HashingTF(inputCol=\"words\", outputCol=\"rawfeatures\")\n",
    "idf = IDF(inputCol=\"rawfeatures\", outputCol=\"features\",minDocFreq=2)\n",
    "pipeline = Pipeline(stages=[regexTokenizer, hashingTF, idf])\n",
    "\n",
    "model = pipeline.fit(df)\n",
    "dataset = model.transform(df)\n",
    "\n",
    "model2 = pipeline.fit(test_df)\n",
    "test_dataset = model2.transform(test_df)"
   ]
  },
  {
   "cell_type": "code",
   "execution_count": 7,
   "metadata": {},
   "outputs": [],
   "source": [
    "dfList = []\n",
    "labelCols = lables_spark_df.columns"
   ]
  },
  {
   "cell_type": "code",
   "execution_count": 8,
   "metadata": {
    "colab": {
     "base_uri": "https://localhost:8080/",
     "height": 52
    },
    "colab_type": "code",
    "id": "jyZoqR6cUuJH",
    "outputId": "59985102-225f-4936-cd0f-ea747c4dca77"
   },
   "outputs": [
    {
     "name": "stdout",
     "output_type": "stream",
     "text": [
      "CPU times: user 15.1 s, sys: 5.34 s, total: 20.4 s\n",
      "Wall time: 1h 2min 24s\n"
     ]
    }
   ],
   "source": [
    "%%time\n",
    "##Note: Run this cell if you wann train the model again\n",
    "lr = LogisticRegression(featuresCol = 'features',maxIter=750)\n",
    "for labelCol in labelCols:\n",
    "    lr.setLabelCol(labelCol)\n",
    "    lrModel = lr.fit(dataset)\n",
    "    lrModel.save(r\"part2/\"+labelCol)  ##\"\"\" if you want train the model again comment this line and uncomment the next following line\"\"\"\n",
    "    # lrModel.write().overwrite().save(r\"part2/\"+labelCol)"
   ]
  },
  {
   "cell_type": "code",
   "execution_count": 9,
   "metadata": {
    "colab": {
     "base_uri": "https://localhost:8080/",
     "height": 52
    },
    "colab_type": "code",
    "id": "vKXwtdN-Uv52",
    "outputId": "344adfda-5175-47d6-d784-e2de8fdcce78"
   },
   "outputs": [
    {
     "name": "stdout",
     "output_type": "stream",
     "text": [
      "CPU times: user 374 ms, sys: 73.4 ms, total: 447 ms\n",
      "Wall time: 7.46 s\n"
     ]
    }
   ],
   "source": [
    "%%time\n",
    "from pyspark.ml.classification import LogisticRegression,LogisticRegressionModel\n",
    "for labelCol in labelCols:\n",
    "    lrModel2 = LogisticRegressionModel.load(\"part2/\"+labelCol)\n",
    "    predictions = lrModel2.transform(test_dataset)\n",
    "    predictions = predictions.drop(\"features\",labelCol,\"rawPrediction\",\"probability\")\n",
    "    predictions = predictions.withColumn(\"prediction\",F.col(\"prediction\").cast(IntegerType()))\n",
    "    dfList.append(predictions.select(\"movie_id\",\"prediction\"))"
   ]
  },
  {
   "cell_type": "code",
   "execution_count": 10,
   "metadata": {
    "colab": {
     "base_uri": "https://localhost:8080/",
     "height": 52
    },
    "colab_type": "code",
    "id": "6m2q85P2sqBl",
    "outputId": "177a1618-d51a-4624-ed06-67c91b3f984b"
   },
   "outputs": [
    {
     "name": "stdout",
     "output_type": "stream",
     "text": [
      "CPU times: user 588 ms, sys: 201 ms, total: 789 ms\n",
      "Wall time: 3min 27s\n"
     ]
    }
   ],
   "source": [
    "%%time\n",
    "dfs_renamed = [df.selectExpr('movie_id', f'prediction as prediction_{i}') for i, df in enumerate(dfList)]\n",
    "temp_df = reduce(lambda x, y: x.join(y, ['movie_id'], how='full'), dfs_renamed)\n",
    "col_list = ['prediction_%d' % i for i in range(len(dfList))]\n",
    "temp_df = temp_df.withColumn('predictions',concat_ws(\" \",*col_list)).drop(*col_list).toPandas().to_csv(\"predictions_part2.csv\",index=False)\n"
   ]
  }
 ],
 "metadata": {
  "colab": {
   "collapsed_sections": [],
   "name": "DIC_PySpark_Part2.ipynb",
   "provenance": []
  },
  "kernelspec": {
   "display_name": "Python 3",
   "language": "python",
   "name": "python3"
  },
  "language_info": {
   "codemirror_mode": {
    "name": "ipython",
    "version": 3
   },
   "file_extension": ".py",
   "mimetype": "text/x-python",
   "name": "python",
   "nbconvert_exporter": "python",
   "pygments_lexer": "ipython3",
   "version": "3.6.9"
  }
 },
 "nbformat": 4,
 "nbformat_minor": 1
}
